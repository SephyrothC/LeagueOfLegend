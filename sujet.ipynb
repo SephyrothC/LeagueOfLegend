{
 "cells": [
  {
   "cell_type": "markdown",
   "metadata": {},
   "source": [
    "![alt text](images/lol.png \"Title\")"
   ]
  },
  {
   "cell_type": "markdown",
   "metadata": {},
   "source": [
    "\n",
    "\n",
    "\n",
    "\n",
    "https://www.leagueoflegends.com/en-us/how-to-play/"
   ]
  },
  {
   "cell_type": "markdown",
   "metadata": {},
   "source": [
    "### Détails du sujet\n",
    "\n",
    "Ce jeu de données est un ensemble de data de League of Legends sur les matchs compétitifs. \n",
    "Si vous ne connaissez pas League of Legends, il s'agit d'un jeu où deux équipes de 5 joueurs s'affrontent. Chaque joueur choisi un champion, qui est un personnage parmi une liste. La partie d'arrête quand une équipe a détruit le nexus adverse. \n",
    "\n",
    "Le jeu expliqué en trois minutes : https://www.youtube.com/watch?v=OfYU4gbk13w\n",
    "\n",
    "Chargez le dataset et répondez aux questions sous forme de phrase. \n",
    "Vous pouvez utiliser print(f\"{}\") pour rédiger des réponses complètes. \n",
    "\n",
    "Exemple : \n",
    "\n",
    "resultat = NombredeMort()\n",
    "\n",
    "print(f\"Le nombre de mort dans la partie est de {resultat}.\")\n",
    "\n",
    "\n",
    "\n",
    "Si vous avez des questions : \n",
    "\n",
    "                - Discord : @T.Bellanger (Salon Aide Prof sur le serveur 3A)\n",
    "\n",
    "                - Teams : Thibaut Bellanger\n",
    "\n",
    "                - Mail : thibaut.bellanger@esiea.fr"
   ]
  },
  {
   "cell_type": "markdown",
   "metadata": {},
   "source": [
    "##### Import"
   ]
  },
  {
   "cell_type": "code",
   "metadata": {
    "ExecuteTime": {
     "end_time": "2024-04-12T09:41:19.640810Z",
     "start_time": "2024-04-12T09:41:19.637320Z"
    }
   },
   "source": [
    "#import \n",
    "import pandas as pd"
   ],
   "outputs": [],
   "execution_count": 10
  },
  {
   "cell_type": "markdown",
   "metadata": {},
   "source": [
    "# Découverte du dataset"
   ]
  },
  {
   "cell_type": "markdown",
   "metadata": {},
   "source": [
    "#### Chargement du dataset"
   ]
  },
  {
   "metadata": {},
   "cell_type": "markdown",
   "source": ""
  },
  {
   "cell_type": "code",
   "metadata": {
    "ExecuteTime": {
     "end_time": "2024-04-12T09:41:50.810093Z",
     "start_time": "2024-04-12T09:41:19.841807Z"
    }
   },
   "source": [
    "df = pd.read_csv(\"data/leagueoflegends.csv\", sep=\";\", low_memory=False)\n",
    "if (df is not None):\n",
    "    print(\"Le dataset a bien été chargé.\")"
   ],
   "outputs": [
    {
     "name": "stdout",
     "output_type": "stream",
     "text": [
      "Le dataset a bien été chargé.\n"
     ]
    }
   ],
   "execution_count": 11
  },
  {
   "metadata": {
    "ExecuteTime": {
     "end_time": "2024-04-12T09:59:07.979318Z",
     "start_time": "2024-04-12T09:59:03.894399Z"
    }
   },
   "cell_type": "code",
   "source": [
    "# Filtre \n",
    "\n",
    "# Filtre d'adresse\n",
    "df_Adress = df['Address']\n",
    "\n",
    "\n",
    "# Flitre des données par année\n",
    "df_2017 = df[df['Year'] == 2017]\n",
    "df_2018 = df[df['Year'] == 2018]\n",
    "df_saison_Spring = df[df['Season'] == 'Spring']\n",
    "df_saison_Summer = df[df['Season'] == 'Summer']\n",
    "\n",
    "# Filtre des données par Ban\n",
    "df_BleuTeamBan = df[df['Team_bans'] == 'blue']\n",
    "df_RedTeamBan = df[df['Team_bans'] == 'red']\n",
    "\n",
    "# Filtre des données par Tag\n",
    "df_BleuTeamTag = df['blueTeamTag']\n",
    "df_RedTeamTag = df['redTeamTag']\n",
    "\n",
    "# Friltre des données par Kills\n",
    "df_Killer = df['Killer']\n",
    "df_Victim = df['Victim']\n",
    "df_TimeKills = df['Time_kills']\n",
    "df_Death_xpos = df['x_pos_kills']\n",
    "df_Death_ypos = df['y_pos_kills']\n",
    "\n",
    "# Filtre des données par Gold\n",
    "df_BleuGold = df[df['Type_gold'] == 'goldbleu']\n",
    "df_RedGold = df[df['Type_gold'] == 'goldred']\n",
    "df_GoldPerMin = df['Gold_per_min']\n",
    "\n",
    "\n",
    "\n",
    "\n",
    "print(\"Les filtres ont bien été appliqués.\")"
   ],
   "outputs": [
    {
     "name": "stdout",
     "output_type": "stream",
     "text": [
      "Les filtres ont bien été appliqués.\n"
     ]
    }
   ],
   "execution_count": 25
  },
  {
   "cell_type": "markdown",
   "metadata": {},
   "source": [
    "#### Afficher les 2 premières lignes"
   ]
  },
  {
   "cell_type": "code",
   "metadata": {
    "ExecuteTime": {
     "end_time": "2024-04-12T09:44:04.861606Z",
     "start_time": "2024-04-12T09:44:04.842343Z"
    }
   },
   "source": "df.head(2)",
   "outputs": [
    {
     "data": {
      "text/plain": [
       "                                             Address Team_bans   ban_1 ban_2  \\\n",
       "0  http://matchhistory.na.leagueoflegends.com/en/...      blue  Rengar  Olaf   \n",
       "1  http://matchhistory.na.leagueoflegends.com/en/...      blue  Rengar  Olaf   \n",
       "\n",
       "   ban_3     ban_4  ban_5 Type_gold  \\\n",
       "0  Janna  Nautilus  Poppy  golddiff   \n",
       "1  Janna  Nautilus  Poppy  golddiff   \n",
       "\n",
       "                                        Gold_per_min Team_kills  ...  redTop  \\\n",
       "0  [0.0, 0.0, 20.0, 209.0, -31.0, 37.0, -38.0, -1...       blue  ...  Impact   \n",
       "1  [0.0, 0.0, 20.0, 209.0, -31.0, 37.0, -38.0, -1...       blue  ...  Impact   \n",
       "\n",
       "  redTopChamp  redJungle redJungleChamp redMiddle redMiddleChamp  redADC  \\\n",
       "0        Shen  Contractz         Khazix    Jensen           Fizz  Sneaky   \n",
       "1        Shen  Contractz         Khazix    Jensen           Fizz  Sneaky   \n",
       "\n",
       "  redADCChamp redSupport redSupportChamp  \n",
       "0        Ashe   Smoothie     MissFortune  \n",
       "1        Ashe   Smoothie     MissFortune  \n",
       "\n",
       "[2 rows x 44 columns]"
      ],
      "text/html": [
       "<div>\n",
       "<style scoped>\n",
       "    .dataframe tbody tr th:only-of-type {\n",
       "        vertical-align: middle;\n",
       "    }\n",
       "\n",
       "    .dataframe tbody tr th {\n",
       "        vertical-align: top;\n",
       "    }\n",
       "\n",
       "    .dataframe thead th {\n",
       "        text-align: right;\n",
       "    }\n",
       "</style>\n",
       "<table border=\"1\" class=\"dataframe\">\n",
       "  <thead>\n",
       "    <tr style=\"text-align: right;\">\n",
       "      <th></th>\n",
       "      <th>Address</th>\n",
       "      <th>Team_bans</th>\n",
       "      <th>ban_1</th>\n",
       "      <th>ban_2</th>\n",
       "      <th>ban_3</th>\n",
       "      <th>ban_4</th>\n",
       "      <th>ban_5</th>\n",
       "      <th>Type_gold</th>\n",
       "      <th>Gold_per_min</th>\n",
       "      <th>Team_kills</th>\n",
       "      <th>...</th>\n",
       "      <th>redTop</th>\n",
       "      <th>redTopChamp</th>\n",
       "      <th>redJungle</th>\n",
       "      <th>redJungleChamp</th>\n",
       "      <th>redMiddle</th>\n",
       "      <th>redMiddleChamp</th>\n",
       "      <th>redADC</th>\n",
       "      <th>redADCChamp</th>\n",
       "      <th>redSupport</th>\n",
       "      <th>redSupportChamp</th>\n",
       "    </tr>\n",
       "  </thead>\n",
       "  <tbody>\n",
       "    <tr>\n",
       "      <th>0</th>\n",
       "      <td>http://matchhistory.na.leagueoflegends.com/en/...</td>\n",
       "      <td>blue</td>\n",
       "      <td>Rengar</td>\n",
       "      <td>Olaf</td>\n",
       "      <td>Janna</td>\n",
       "      <td>Nautilus</td>\n",
       "      <td>Poppy</td>\n",
       "      <td>golddiff</td>\n",
       "      <td>[0.0, 0.0, 20.0, 209.0, -31.0, 37.0, -38.0, -1...</td>\n",
       "      <td>blue</td>\n",
       "      <td>...</td>\n",
       "      <td>Impact</td>\n",
       "      <td>Shen</td>\n",
       "      <td>Contractz</td>\n",
       "      <td>Khazix</td>\n",
       "      <td>Jensen</td>\n",
       "      <td>Fizz</td>\n",
       "      <td>Sneaky</td>\n",
       "      <td>Ashe</td>\n",
       "      <td>Smoothie</td>\n",
       "      <td>MissFortune</td>\n",
       "    </tr>\n",
       "    <tr>\n",
       "      <th>1</th>\n",
       "      <td>http://matchhistory.na.leagueoflegends.com/en/...</td>\n",
       "      <td>blue</td>\n",
       "      <td>Rengar</td>\n",
       "      <td>Olaf</td>\n",
       "      <td>Janna</td>\n",
       "      <td>Nautilus</td>\n",
       "      <td>Poppy</td>\n",
       "      <td>golddiff</td>\n",
       "      <td>[0.0, 0.0, 20.0, 209.0, -31.0, 37.0, -38.0, -1...</td>\n",
       "      <td>blue</td>\n",
       "      <td>...</td>\n",
       "      <td>Impact</td>\n",
       "      <td>Shen</td>\n",
       "      <td>Contractz</td>\n",
       "      <td>Khazix</td>\n",
       "      <td>Jensen</td>\n",
       "      <td>Fizz</td>\n",
       "      <td>Sneaky</td>\n",
       "      <td>Ashe</td>\n",
       "      <td>Smoothie</td>\n",
       "      <td>MissFortune</td>\n",
       "    </tr>\n",
       "  </tbody>\n",
       "</table>\n",
       "<p>2 rows × 44 columns</p>\n",
       "</div>"
      ]
     },
     "execution_count": 19,
     "metadata": {},
     "output_type": "execute_result"
    }
   ],
   "execution_count": 19
  },
  {
   "cell_type": "markdown",
   "metadata": {},
   "source": [
    "#### Il y a-t-il des valeurs manquantes ? "
   ]
  },
  {
   "cell_type": "code",
   "metadata": {
    "ExecuteTime": {
     "end_time": "2024-04-12T09:44:13.855569Z",
     "start_time": "2024-04-12T09:44:11.283804Z"
    }
   },
   "source": [
    "if df_2017.isnull().values.any():\n",
    "    print(\"Il y a des valeurs manquantes.\")\n",
    "else:\n",
    "    print(\"Il n'y a pas de valeurs manquantes.\")"
   ],
   "outputs": [
    {
     "name": "stdout",
     "output_type": "stream",
     "text": [
      "Il n'y a pas de valeurs manquantes.\n"
     ]
    }
   ],
   "execution_count": 20
  },
  {
   "cell_type": "markdown",
   "metadata": {},
   "source": [
    "#### Il y a-t-il des doublons ? "
   ]
  },
  {
   "cell_type": "code",
   "metadata": {
    "ExecuteTime": {
     "end_time": "2024-04-12T09:44:24.384005Z",
     "start_time": "2024-04-12T09:44:18.303671Z"
    }
   },
   "source": [
    "if df_2017.duplicated().values.any():\n",
    "    print(\"Il y a des doublons.\")\n",
    "else:\n",
    "    print(\"Il n'y a pas de doublons.\")"
   ],
   "outputs": [
    {
     "name": "stdout",
     "output_type": "stream",
     "text": [
      "Il n'y a pas de doublons.\n"
     ]
    }
   ],
   "execution_count": 21
  },
  {
   "cell_type": "markdown",
   "metadata": {},
   "source": [
    "#### Ce dataset a une forme particulière. Le champ Address sert d'ID unique pour chaque partie. "
   ]
  },
  {
   "cell_type": "markdown",
   "metadata": {},
   "source": [
    "#### Combien de parties différentes contient ce dataset ? "
   ]
  },
  {
   "cell_type": "code",
   "metadata": {
    "ExecuteTime": {
     "end_time": "2024-04-12T09:59:23.183341Z",
     "start_time": "2024-04-12T09:59:22.584436Z"
    }
   },
   "source": "print(f\"Ce dataset contient {df_Adress.nunique()} parties différentes.\")",
   "outputs": [
    {
     "name": "stdout",
     "output_type": "stream",
     "text": [
      "Ce dataset contient 3488 parties différentes.\n"
     ]
    }
   ],
   "execution_count": 26
  },
  {
   "cell_type": "markdown",
   "metadata": {},
   "source": [
    "    Vous devez répondre avec une phrase pour chaque question, n'affichez pas seulement un résultat, répondez à la question !"
   ]
  },
  {
   "cell_type": "markdown",
   "metadata": {},
   "source": [
    "Au cours d'une partie, plusieurs évènements se produisent. Les joueurs s'éliminent plusieurs fois par exemple. Nous ne pouvons pas savoir à l'avance combien de \"Victim\" nous aurons dans une partie, et ce pour chaque partie, donc les lignes sont multipliées. \n",
    "\n",
    "Voici un exemple: \n",
    "    \n",
    "| Partie_ID  | Victim          | Killer | Time_kills|\n",
    "| :--------------- |:---------------:| -----:| ----:|\n",
    "| game_1  |   UOL Hylissang    |  FNC Rekkles | 3 |\n",
    "| game_1  | UOL Hylissang      |   FNC Rekkles | 5 |\n",
    "| game_1  | UOL Hylissang      |    FNC Rekkles | 8 |\n",
    "| game_2  | FNC Rhobalas              |   Trayton | 6 |\n",
    "| game_2  | FNC Rhobalas          |    Trayton | 15 |\n",
    "| game_2  | Chap          |    Trayton | 17 |\n",
    "| game_2  | Chap             |   Trayton | 21 |\n",
    "\n",
    "Dans cet exemple, sur la première partie (game_1), UOL Hylissang est mort 3 fois dans la partie, tué à chaque fois par FNC Rekkles. Time_kills indique le temps dans le jeu en minutes où le joueur est mort.  \n",
    "\n",
    "\n",
    "Voici un deuxième exemple: \n",
    "    \n",
    "| Partie_ID  | Victim          | Killer | Time_kills| Gold_type| Gold |\n",
    "| :----------|:---------------:| ------:| ----:|  ----:| ----:| \n",
    "| game_1     | UOL Hylissang   | FNC Rekkles | 3 | Gold_blue | 5k |\n",
    "| game_1     | UOL Hylissang   | FNC Rekkles | 3 | Gold_red | 4.9k |\n",
    "| game_1     | UOL Hylissang   | FNC Rekkles | 5 | Gold_blue | 7k |\n",
    "| game_1     | UOL Hylissang   | FNC Rekkles | 5 | Gold_red | 7.2k |\n",
    "| game_2     | FNC Rhobalas    | Trayton | 6 | Gold_blue | 7.5k |\n",
    "| game_2     | FNC Rhobalas    | Trayton | 6 | Gold_red | 7.5k |\n",
    "| game_2     | FNC Rhobalas    | Trayton | 15 | Gold_blue | 15k |\n",
    "| game_2     | FNC Rhobalas    | Trayton | 15 | Gold_red | 16k |\n",
    "\n",
    "Dans ce deuxième exemple, si vous comptez le nombre de mort de FNC Rhobalas, vous aurez des doublons ! Certains colonnes servent de \"filtres\", ce qui évitent d'avoir trop de colonnes mais ce qui rajoute des lignes.  \n",
    "\n",
    "    Attention donc aux doublons, en considérant les données utiles pour chaque question ! "
   ]
  },
  {
   "cell_type": "markdown",
   "metadata": {},
   "source": [
    "### Combien d'équipes différentes il y a-t-il ? "
   ]
  },
  {
   "metadata": {},
   "cell_type": "code",
   "outputs": [],
   "execution_count": null,
   "source": ""
  },
  {
   "cell_type": "markdown",
   "metadata": {},
   "source": [
    "### Quel joueur est mort le plus de fois ?"
   ]
  },
  {
   "cell_type": "code",
   "metadata": {
    "ExecuteTime": {
     "end_time": "2024-04-12T09:42:01.110001Z",
     "start_time": "2024-04-12T09:42:01.106615Z"
    }
   },
   "source": [],
   "outputs": [],
   "execution_count": 15
  },
  {
   "cell_type": "markdown",
   "metadata": {},
   "source": [
    "### A quel poste joue ce joueur ? "
   ]
  },
  {
   "cell_type": "code",
   "metadata": {
    "ExecuteTime": {
     "end_time": "2024-04-12T09:42:01.114630Z",
     "start_time": "2024-04-12T09:42:01.111888Z"
    }
   },
   "source": [],
   "outputs": [],
   "execution_count": 15
  },
  {
   "cell_type": "markdown",
   "metadata": {},
   "source": [
    "### Quel joueur est mort le plus de fois en moyenne par partie ?"
   ]
  },
  {
   "cell_type": "code",
   "metadata": {
    "ExecuteTime": {
     "end_time": "2024-04-12T09:42:01.124530Z",
     "start_time": "2024-04-12T09:42:01.120023Z"
    }
   },
   "source": [],
   "outputs": [],
   "execution_count": 15
  },
  {
   "cell_type": "markdown",
   "metadata": {},
   "source": [
    "### A quel poste joue ce joueur ? "
   ]
  },
  {
   "cell_type": "code",
   "metadata": {
    "ExecuteTime": {
     "end_time": "2024-04-12T09:42:01.131726Z",
     "start_time": "2024-04-12T09:42:01.126795Z"
    }
   },
   "source": [],
   "outputs": [],
   "execution_count": 15
  },
  {
   "cell_type": "markdown",
   "metadata": {},
   "source": [
    "### Quel champion a le plus haut winrate blueside (Taux de victoire)? Afficher la liste en cas d'égalité."
   ]
  },
  {
   "cell_type": "code",
   "metadata": {
    "ExecuteTime": {
     "end_time": "2024-04-12T09:42:01.138289Z",
     "start_time": "2024-04-12T09:42:01.133410Z"
    }
   },
   "source": [],
   "outputs": [],
   "execution_count": 15
  },
  {
   "cell_type": "markdown",
   "metadata": {},
   "source": [
    "### Quel champion a le plus haut winrate redside (Taux de victoire)? Afficher la liste en cas d'égalité."
   ]
  },
  {
   "cell_type": "code",
   "metadata": {
    "ExecuteTime": {
     "end_time": "2024-04-12T09:42:01.146938Z",
     "start_time": "2024-04-12T09:42:01.140822Z"
    }
   },
   "source": [],
   "outputs": [],
   "execution_count": 15
  },
  {
   "cell_type": "markdown",
   "metadata": {},
   "source": [
    "### Quel champion a le plus haut winrate (Taux de victoire)? "
   ]
  },
  {
   "cell_type": "code",
   "metadata": {
    "ExecuteTime": {
     "end_time": "2024-04-12T09:42:01.154547Z",
     "start_time": "2024-04-12T09:42:01.149227Z"
    }
   },
   "source": [],
   "outputs": [],
   "execution_count": 15
  },
  {
   "cell_type": "markdown",
   "metadata": {},
   "source": [
    "### Afficher une carte des kills en utilisant le package datashader (https://datashader.org/)"
   ]
  },
  {
   "cell_type": "code",
   "metadata": {
    "ExecuteTime": {
     "end_time": "2024-04-12T09:42:01.164136Z",
     "start_time": "2024-04-12T09:42:01.157992Z"
    }
   },
   "source": [],
   "outputs": [],
   "execution_count": 15
  },
  {
   "cell_type": "markdown",
   "metadata": {},
   "source": [
    "### Combien de temps a duré la partie la plus courte ? Donnez la league, l'année, la saison, le type de match et les noms des équipes. "
   ]
  },
  {
   "cell_type": "code",
   "metadata": {
    "ExecuteTime": {
     "end_time": "2024-04-12T09:42:01.173565Z",
     "start_time": "2024-04-12T09:42:01.166142Z"
    }
   },
   "source": [],
   "outputs": [],
   "execution_count": 15
  },
  {
   "cell_type": "markdown",
   "metadata": {},
   "source": [
    "### Quelle partie a été la plus longue ?  Donnez la league, l'année, la saison, le type de match et les noms des équipes. "
   ]
  },
  {
   "cell_type": "code",
   "metadata": {
    "ExecuteTime": {
     "end_time": "2024-04-12T09:42:01.178846Z",
     "start_time": "2024-04-12T09:42:01.174575Z"
    }
   },
   "source": [],
   "outputs": [],
   "execution_count": 15
  },
  {
   "cell_type": "markdown",
   "metadata": {},
   "source": [
    "### Affichez la courbe de golddiff de cette partie en précisant les tags d'équipes.\n",
    "Vous devriez obtenir cette image : ![./images/gold_diff.png](./images/gold_diff.png \"Title\")"
   ]
  },
  {
   "cell_type": "code",
   "metadata": {
    "ExecuteTime": {
     "end_time": "2024-04-12T09:42:01.184176Z",
     "start_time": "2024-04-12T09:42:01.178846Z"
    }
   },
   "source": [],
   "outputs": [],
   "execution_count": 15
  },
  {
   "cell_type": "markdown",
   "metadata": {},
   "source": [
    "### Quel joueur est mort le plus vite dans une partie (Hors \"TooEarly\") ? Combien de temps a-t-il tenu ? "
   ]
  },
  {
   "cell_type": "code",
   "metadata": {
    "ExecuteTime": {
     "end_time": "2024-04-12T09:42:01.189638Z",
     "start_time": "2024-04-12T09:42:01.184176Z"
    }
   },
   "source": [],
   "outputs": [],
   "execution_count": 15
  },
  {
   "cell_type": "markdown",
   "metadata": {},
   "source": [
    "# Question BONUS"
   ]
  },
  {
   "cell_type": "markdown",
   "metadata": {},
   "source": [
    "### Quel joueur est celui ayant eu le plus de gold au cours d'une partie ? "
   ]
  },
  {
   "cell_type": "code",
   "metadata": {
    "ExecuteTime": {
     "end_time": "2024-04-12T09:42:01.194162Z",
     "start_time": "2024-04-12T09:42:01.191148Z"
    }
   },
   "source": [],
   "outputs": [],
   "execution_count": 15
  },
  {
   "cell_type": "markdown",
   "metadata": {},
   "source": [
    "### Quel joueur a joué le plus de fois le même champion ? "
   ]
  },
  {
   "cell_type": "code",
   "metadata": {
    "ExecuteTime": {
     "end_time": "2024-04-12T09:42:01.198438Z",
     "start_time": "2024-04-12T09:42:01.195172Z"
    }
   },
   "source": [],
   "outputs": [],
   "execution_count": 15
  }
 ],
 "metadata": {
  "kernelspec": {
   "display_name": "Python 3",
   "language": "python",
   "name": "python3"
  },
  "language_info": {
   "codemirror_mode": {
    "name": "ipython",
    "version": 3
   },
   "file_extension": ".py",
   "mimetype": "text/x-python",
   "name": "python",
   "nbconvert_exporter": "python",
   "pygments_lexer": "ipython3",
   "version": "3.10.12"
  }
 },
 "nbformat": 4,
 "nbformat_minor": 2
}
