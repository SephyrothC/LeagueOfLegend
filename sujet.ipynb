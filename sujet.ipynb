{
 "cells": [
  {
   "cell_type": "markdown",
   "metadata": {},
   "source": [
    "![alt text](images/lol.png \"Title\")"
   ]
  },
  {
   "cell_type": "markdown",
   "metadata": {},
   "source": [
    "\n",
    "\n",
    "\n",
    "\n",
    "https://www.leagueoflegends.com/en-us/how-to-play/"
   ]
  },
  {
   "cell_type": "markdown",
   "metadata": {},
   "source": [
    "### Détails du sujet\n",
    "\n",
    "Ce jeu de données est un ensemble de data de League of Legends sur les matchs compétitifs. \n",
    "Si vous ne connaissez pas League of Legends, il s'agit d'un jeu où deux équipes de 5 joueurs s'affrontent. Chaque joueur choisi un champion, qui est un personnage parmi une liste. La partie d'arrête quand une équipe a détruit le nexus adverse. \n",
    "\n",
    "Le jeu expliqué en trois minutes : https://www.youtube.com/watch?v=OfYU4gbk13w\n",
    "\n",
    "Chargez le dataset et répondez aux questions sous forme de phrase. \n",
    "Vous pouvez utiliser print(f\"{}\") pour rédiger des réponses complètes. \n",
    "\n",
    "Exemple : \n",
    "\n",
    "resultat = NombredeMort()\n",
    "\n",
    "print(f\"Le nombre de mort dans la partie est de {resultat}.\")\n",
    "\n",
    "\n",
    "\n",
    "Si vous avez des questions : \n",
    "\n",
    "                - Discord : @T.Bellanger (Salon Aide Prof sur le serveur 3A)\n",
    "\n",
    "                - Teams : Thibaut Bellanger\n",
    "\n",
    "                - Mail : thibaut.bellanger@esiea.fr"
   ]
  },
  {
   "cell_type": "markdown",
   "metadata": {},
   "source": [
    "##### Import"
   ]
  },
  {
   "cell_type": "code",
   "execution_count": 1,
   "metadata": {},
   "outputs": [],
   "source": [
    "#import"
   ]
  },
  {
   "cell_type": "markdown",
   "metadata": {},
   "source": [
    "# Découverte du dataset"
   ]
  },
  {
   "cell_type": "markdown",
   "metadata": {},
   "source": [
    "#### Chargement du dataset"
   ]
  },
  {
   "cell_type": "code",
   "execution_count": null,
   "metadata": {},
   "outputs": [],
   "source": []
  },
  {
   "cell_type": "markdown",
   "metadata": {},
   "source": [
    "#### Afficher les 2 premières lignes"
   ]
  },
  {
   "cell_type": "code",
   "execution_count": null,
   "metadata": {},
   "outputs": [],
   "source": []
  },
  {
   "cell_type": "markdown",
   "metadata": {},
   "source": [
    "#### Il y a-t-il des valeurs manquantes ? "
   ]
  },
  {
   "cell_type": "code",
   "execution_count": null,
   "metadata": {},
   "outputs": [],
   "source": []
  },
  {
   "cell_type": "markdown",
   "metadata": {},
   "source": [
    "#### Il y a-t-il des doublons ? "
   ]
  },
  {
   "cell_type": "code",
   "execution_count": null,
   "metadata": {},
   "outputs": [],
   "source": []
  },
  {
   "cell_type": "markdown",
   "metadata": {},
   "source": [
    "#### Ce dataset a une forme particulière. Le champ Address sert d'ID unique pour chaque partie. "
   ]
  },
  {
   "cell_type": "markdown",
   "metadata": {},
   "source": [
    "#### Combien de parties différentes contient ce dataset ? "
   ]
  },
  {
   "cell_type": "code",
   "execution_count": null,
   "metadata": {},
   "outputs": [],
   "source": []
  },
  {
   "cell_type": "markdown",
   "metadata": {},
   "source": [
    "    Vous devez répondre avec une phrase pour chaque question, n'affichez pas seulement un résultat, répondez à la question !"
   ]
  },
  {
   "cell_type": "markdown",
   "metadata": {},
   "source": [
    "Au cours d'une partie, plusieurs évènements se produisent. Les joueurs s'éliminent plusieurs fois par exemple. Nous ne pouvons pas savoir à l'avance combien de \"Victim\" nous aurons dans une partie, et ce pour chaque partie, donc les lignes sont multipliées. \n",
    "\n",
    "Voici un exemple: \n",
    "    \n",
    "| Partie_ID  | Victim          | Killer | Time_kills|\n",
    "| :--------------- |:---------------:| -----:| ----:|\n",
    "| game_1  |   UOL Hylissang    |  FNC Rekkles | 3 |\n",
    "| game_1  | UOL Hylissang      |   FNC Rekkles | 5 |\n",
    "| game_1  | UOL Hylissang      |    FNC Rekkles | 8 |\n",
    "| game_2  | FNC Rhobalas              |   Trayton | 6 |\n",
    "| game_2  | FNC Rhobalas          |    Trayton | 15 |\n",
    "| game_2  | Chap          |    Trayton | 17 |\n",
    "| game_2  | Chap             |   Trayton | 21 |\n",
    "\n",
    "Dans cet exemple, sur la première partie (game_1), UOL Hylissang est mort 3 fois dans la partie, tué à chaque fois par FNC Rekkles. Time_kills indique le temps dans le jeu en minutes où le joueur est mort.  \n",
    "\n",
    "\n",
    "Voici un deuxième exemple: \n",
    "    \n",
    "| Partie_ID  | Victim          | Killer | Time_kills| Gold_type| Gold |\n",
    "| :----------|:---------------:| ------:| ----:|  ----:| ----:| \n",
    "| game_1     | UOL Hylissang   | FNC Rekkles | 3 | Gold_blue | 5k |\n",
    "| game_1     | UOL Hylissang   | FNC Rekkles | 3 | Gold_red | 4.9k |\n",
    "| game_1     | UOL Hylissang   | FNC Rekkles | 5 | Gold_blue | 7k |\n",
    "| game_1     | UOL Hylissang   | FNC Rekkles | 5 | Gold_red | 7.2k |\n",
    "| game_2     | FNC Rhobalas    | Trayton | 6 | Gold_blue | 7.5k |\n",
    "| game_2     | FNC Rhobalas    | Trayton | 6 | Gold_red | 7.5k |\n",
    "| game_2     | FNC Rhobalas    | Trayton | 15 | Gold_blue | 15k |\n",
    "| game_2     | FNC Rhobalas    | Trayton | 15 | Gold_red | 16k |\n",
    "\n",
    "Dans ce deuxième exemple, si vous comptez le nombre de mort de FNC Rhobalas, vous aurez des doublons ! Certains colonnes servent de \"filtres\", ce qui évitent d'avoir trop de colonnes mais ce qui rajoute des lignes.  \n",
    "\n",
    "    Attention donc aux doublons, en considérant les données utiles pour chaque question ! "
   ]
  },
  {
   "cell_type": "markdown",
   "metadata": {},
   "source": [
    "### Combien d'équipes différentes il y a-t-il ? "
   ]
  },
  {
   "cell_type": "code",
   "execution_count": null,
   "metadata": {},
   "outputs": [],
   "source": []
  },
  {
   "cell_type": "markdown",
   "metadata": {},
   "source": [
    "### Quel joueur est mort le plus de fois ?"
   ]
  },
  {
   "cell_type": "code",
   "execution_count": null,
   "metadata": {},
   "outputs": [],
   "source": []
  },
  {
   "cell_type": "markdown",
   "metadata": {},
   "source": [
    "### A quel poste joue ce joueur ? "
   ]
  },
  {
   "cell_type": "code",
   "execution_count": null,
   "metadata": {},
   "outputs": [],
   "source": []
  },
  {
   "cell_type": "markdown",
   "metadata": {},
   "source": [
    "### Quel joueur est mort le plus de fois en moyenne par partie ?"
   ]
  },
  {
   "cell_type": "code",
   "execution_count": null,
   "metadata": {},
   "outputs": [],
   "source": []
  },
  {
   "cell_type": "markdown",
   "metadata": {},
   "source": [
    "### A quel poste joue ce joueur ? "
   ]
  },
  {
   "cell_type": "code",
   "execution_count": null,
   "metadata": {},
   "outputs": [],
   "source": []
  },
  {
   "cell_type": "markdown",
   "metadata": {},
   "source": [
    "### Quel champion a le plus haut winrate blueside (Taux de victoire)? Afficher la liste en cas d'égalité."
   ]
  },
  {
   "cell_type": "code",
   "execution_count": null,
   "metadata": {},
   "outputs": [],
   "source": []
  },
  {
   "cell_type": "markdown",
   "metadata": {},
   "source": [
    "### Quel champion a le plus haut winrate redside (Taux de victoire)? Afficher la liste en cas d'égalité."
   ]
  },
  {
   "cell_type": "code",
   "execution_count": null,
   "metadata": {},
   "outputs": [],
   "source": []
  },
  {
   "cell_type": "markdown",
   "metadata": {},
   "source": [
    "### Quel champion a le plus haut winrate (Taux de victoire)? "
   ]
  },
  {
   "cell_type": "code",
   "execution_count": null,
   "metadata": {},
   "outputs": [],
   "source": []
  },
  {
   "cell_type": "markdown",
   "metadata": {},
   "source": [
    "### Afficher une carte des kills en utilisant le package datashader (https://datashader.org/)"
   ]
  },
  {
   "cell_type": "code",
   "execution_count": null,
   "metadata": {},
   "outputs": [],
   "source": []
  },
  {
   "cell_type": "markdown",
   "metadata": {},
   "source": [
    "### Combien de temps a duré la partie la plus courte ? Donnez la league, l'année, la saison, le type de match et les noms des équipes. "
   ]
  },
  {
   "cell_type": "code",
   "execution_count": null,
   "metadata": {},
   "outputs": [],
   "source": []
  },
  {
   "cell_type": "markdown",
   "metadata": {},
   "source": [
    "### Quelle partie a été la plus longue ?  Donnez la league, l'année, la saison, le type de match et les noms des équipes. "
   ]
  },
  {
   "cell_type": "code",
   "execution_count": null,
   "metadata": {},
   "outputs": [],
   "source": []
  },
  {
   "cell_type": "markdown",
   "metadata": {},
   "source": [
    "### Affichez la courbe de golddiff de cette partie en précisant les tags d'équipes.\n",
    "Vous devriez obtenir cette image : ![./images/gold_diff.png](./images/gold_diff.png \"Title\")"
   ]
  },
  {
   "cell_type": "code",
   "execution_count": null,
   "metadata": {},
   "outputs": [],
   "source": []
  },
  {
   "cell_type": "markdown",
   "metadata": {},
   "source": [
    "### Quel joueur est mort le plus vite dans une partie (Hors \"TooEarly\") ? Combien de temps a-t-il tenu ? "
   ]
  },
  {
   "cell_type": "code",
   "execution_count": null,
   "metadata": {},
   "outputs": [],
   "source": []
  },
  {
   "cell_type": "markdown",
   "metadata": {},
   "source": [
    "# Question BONUS"
   ]
  },
  {
   "cell_type": "markdown",
   "metadata": {},
   "source": [
    "### Quel joueur est celui ayant eu le plus de gold au cours d'une partie ? "
   ]
  },
  {
   "cell_type": "code",
   "execution_count": null,
   "metadata": {},
   "outputs": [],
   "source": []
  },
  {
   "cell_type": "markdown",
   "metadata": {},
   "source": [
    "### Quel joueur a joué le plus de fois le même champion ? "
   ]
  },
  {
   "cell_type": "code",
   "execution_count": null,
   "metadata": {},
   "outputs": [],
   "source": []
  }
 ],
 "metadata": {
  "kernelspec": {
   "display_name": "Python 3",
   "language": "python",
   "name": "python3"
  },
  "language_info": {
   "codemirror_mode": {
    "name": "ipython",
    "version": 3
   },
   "file_extension": ".py",
   "mimetype": "text/x-python",
   "name": "python",
   "nbconvert_exporter": "python",
   "pygments_lexer": "ipython3",
   "version": "3.10.12"
  }
 },
 "nbformat": 4,
 "nbformat_minor": 2
}
